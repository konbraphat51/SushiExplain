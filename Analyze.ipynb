{
 "cells": [
  {
   "cell_type": "code",
   "execution_count": 1,
   "metadata": {},
   "outputs": [],
   "source": [
    "import spacy\n",
    "import pandas as pd\n",
    "from tqdm import tqdm\n",
    "import pickle"
   ]
  },
  {
   "attachments": {},
   "cell_type": "markdown",
   "metadata": {},
   "source": [
    "## 初期化"
   ]
  },
  {
   "cell_type": "code",
   "execution_count": 2,
   "metadata": {},
   "outputs": [],
   "source": [
    "keywords = set([\"シャリ\"])\n",
    "\n",
    "def check_keyword(text : str):\n",
    "    for keyword in keywords:\n",
    "        if keyword in text:\n",
    "            return True\n",
    "    return False"
   ]
  },
  {
   "cell_type": "code",
   "execution_count": 3,
   "metadata": {},
   "outputs": [],
   "source": [
    "stopwords = set([\n",
    "    \"シャリ\",\n",
    "    \"お\",\n",
    "    \"料理長\",\n",
    "    \"　\",\n",
    "    \"副\",\n",
    "    \"いる\",\n",
    "    \"する\",\n",
    "    \"前\",\n",
    "    \"くれる\",\n",
    "    \"なる\",\n",
    "    \"いう\",\n",
    "    \"入れる\",\n",
    "    \"ある\",\n",
    "    \"同じ\",\n",
    "    \"良い\",\n",
    "    \"ない\",\n",
    "    \"くる\",\n",
    "    \"笑\",\n",
    "    \"いい\",\n",
    "    \"いく\",\n",
    "    \"こと\",\n",
    "    \"思う\",\n",
    "    \"もの\",\n",
    "    \"おる\",\n",
    "    \"さん\"\n",
    "])"
   ]
  },
  {
   "cell_type": "code",
   "execution_count": 4,
   "metadata": {},
   "outputs": [],
   "source": [
    "#例文（ChatGPTにより生成）\n",
    "sample_text = \"この度、特別な機会にある高級寿司店での食事を楽しむことができました。店内は落ち着いた雰囲気で、スタッフの対応も素晴らしかったです。メニューは多彩で、新鮮な魚介類の品揃えに感動しました。シャリは絶妙な締め加減で、口に入れると心地よい食感が広がります。寿司ネタとの相性も抜群で、一貫一貫がバランスの取れた美味しさでした。特におすすめは、トロやウニの握り寿司で、口の中でとろけるような味わいが堪能できました。もう一度シャリの話に戻りますが、シャリは、程よい酸味と口溶けの良さが特徴で、寿司ネタとのハーモニーが絶妙でした。口に入れるとほっと米がほころぶ。ここまでシャリが良い店は珍しい。価格は高めですが、その価値に見合う素晴らしい食体験でした。また訪れたいと思わせる高級寿司店でした。\""
   ]
  },
  {
   "cell_type": "code",
   "execution_count": 5,
   "metadata": {},
   "outputs": [
    {
     "name": "stderr",
     "output_type": "stream",
     "text": [
      "c:\\Users\\brigh\\anaconda3\\envs\\jpnlp\\lib\\site-packages\\tqdm\\auto.py:21: TqdmWarning: IProgress not found. Please update jupyter and ipywidgets. See https://ipywidgets.readthedocs.io/en/stable/user_install.html\n",
      "  from .autonotebook import tqdm as notebook_tqdm\n"
     ]
    }
   ],
   "source": [
    "ginza = spacy.load(\"ja_ginza_electra\")"
   ]
  },
  {
   "cell_type": "code",
   "execution_count": 6,
   "metadata": {},
   "outputs": [],
   "source": [
    "wanted_parts = set([\"VERB\", \"ADJ\", \"NOUN\"])"
   ]
  },
  {
   "attachments": {},
   "cell_type": "markdown",
   "metadata": {},
   "source": [
    "## データ読み込み"
   ]
  },
  {
   "cell_type": "code",
   "execution_count": 7,
   "metadata": {},
   "outputs": [
    {
     "data": {
      "text/plain": [
       "5068"
      ]
     },
     "execution_count": 7,
     "metadata": {},
     "output_type": "execute_result"
    }
   ],
   "source": [
    "with open(\"reviews.csv\") as f:\n",
    "    reviews = f.read().split(\"\\n\")\n",
    "    \n",
    "len(reviews)"
   ]
  },
  {
   "attachments": {},
   "cell_type": "markdown",
   "metadata": {},
   "source": [
    "## 「シャリ」からの近さでスコア化して集計\n",
    "  \n",
    "文ごとにスコアを与える  \n",
    "「シャリ」を含む文を１として、その近隣の文も（シャリの話をしている可能性が高いので）ポワソン分布的にスコアを与える  \n",
    "文内の単語はその文のスコアだけ加点される"
   ]
  },
  {
   "cell_type": "code",
   "execution_count": 8,
   "metadata": {},
   "outputs": [
    {
     "name": "stdout",
     "output_type": "stream",
     "text": [
      "['この度、特別な機会にある高級寿司店での食事を楽しむことができました。', '店内は落ち着いた雰囲気で、スタッフの対応も素晴らしかったです。', 'メニューは多彩で、新鮮な魚介類の品揃えに感動しました。', 'シャリは絶妙な締め加減で、口に入れると心地よい食感が広がります。', '寿司ネタとの相性も抜群で、一貫一貫がバランスの取れた美味しさでした。', '特におすすめは、トロやウニの握り寿司で、口の中でとろけるような味わいが堪能できました。', 'もう一度シャリの話に戻りますが、シャリは、程よい酸味と口溶けの良さが特徴で、寿司ネタとのハーモニーが絶妙でした。', '口に入れるとほっと米がほころぶ。', 'ここまでシャリが良い店は珍しい。', '価格は高めですが、その価値に見合う素晴らしい食体験でした。', 'また訪れたいと思わせる高級寿司店でした。'] [[この, 度, 、, 特別, な, 機会, に, ある, 高級, 寿司店, で, の, 食事, を, 楽しむ, こと, が, でき, まし, た, 。], [店内, は, 落ち着い, た, 雰囲気, で, 、, スタッフ, の, 対応, も, 素晴らしかっ, た, です, 。], [メニュー, は, 多彩, で, 、, 新鮮, な, 魚介類, の, 品揃え, に, 感動, し, まし, た, 。], [シャリ, は, 絶妙, な, 締め, 加減, で, 、, 口, に, 入れる, と, 心地よい, 食感, が, 広がり, ます, 。], [寿司ネタ, と, の, 相性, も, 抜群, で, 、, 一貫, 一貫, が, バランス, の, 取れ, た, 美味しさ, でし, た, 。], [特に, おすすめ, は, 、, トロ, や, ウニ, の, 握り寿司, で, 、, 口, の, 中, で, とろける, よう, な, 味わい, が, 堪能, でき, まし, た, 。], [もう, 一度, シャリ, の, 話, に, 戻り, ます, が, 、, シャリ, は, 、, 程よい, 酸味, と, 口, 溶け, の, 良, さ, が, 特徴, で, 、, 寿司ネタ, と, の, ハーモニー, が, 絶妙, でし, た, 。], [口, に, 入れる, と, ほっと, 米, が, ほころぶ, 。], [ここ, まで, シャリ, が, 良い, 店, は, 珍しい, 。], [価格, は, 高め, です, が, 、, その, 価値, に, 見合う, 素晴らしい, 食, 体験, でし, た, 。], [また, 訪れ, たい, と, 思わ, せる, 高級, 寿司店, でし, た, 。]]\n"
     ]
    }
   ],
   "source": [
    "#原文を文ごとにわけ、さらに形態素にわける\n",
    "def breakdown(text):\n",
    "    _text = text.replace(\"<br>\", \"\\n\")\n",
    "    sents = ginza(_text).sents\n",
    "    \n",
    "    sents_text = []\n",
    "    sents_tokenized = []\n",
    "    for sent in sents:\n",
    "        sents_text.append(str(sent))\n",
    "        sents_tokenized.append([])\n",
    "        for token in sent:\n",
    "            sents_tokenized[-1].append(token)\n",
    "            \n",
    "    return sents_text, sents_tokenized\n",
    "\n",
    "sample_sents, sample_tokens = breakdown(sample_text)\n",
    "\n",
    "print(sample_sents, sample_tokens)"
   ]
  },
  {
   "cell_type": "code",
   "execution_count": 9,
   "metadata": {},
   "outputs": [
    {
     "name": "stdout",
     "output_type": "stream",
     "text": [
      "0.0 この度、特別な機会にある高級寿司店での食事を楽しむことができました。\n",
      "0.0 店内は落ち着いた雰囲気で、スタッフの対応も素晴らしかったです。\n",
      "0.2 メニューは多彩で、新鮮な魚介類の品揃えに感動しました。\n",
      "1.0 シャリは絶妙な締め加減で、口に入れると心地よい食感が広がります。\n",
      "0.3 寿司ネタとの相性も抜群で、一貫一貫がバランスの取れた美味しさでした。\n",
      "0.2 特におすすめは、トロやウニの握り寿司で、口の中でとろけるような味わいが堪能できました。\n",
      "1.0 もう一度シャリの話に戻りますが、シャリは、程よい酸味と口溶けの良さが特徴で、寿司ネタとのハーモニーが絶妙でした。\n",
      "0.8 口に入れるとほっと米がほころぶ。\n",
      "1.0 ここまでシャリが良い店は珍しい。\n",
      "0.3 価格は高めですが、その価値に見合う素晴らしい食体験でした。\n",
      "0.1 また訪れたいと思わせる高級寿司店でした。\n"
     ]
    }
   ],
   "source": [
    "#文章ごとのスコアを産出\n",
    "def evaluate_sentent_score(sents):\n",
    "    has_keyword = []\n",
    "    sents_n = 0\n",
    "    for sent in sents:\n",
    "        has_keyword.append(check_keyword(str(sent)))\n",
    "        sents_n += 1\n",
    "        \n",
    "    scores = [0.0] * sents_n\n",
    "    \n",
    "    def put_score(score, ind):\n",
    "        if (ind < 0) or (len(scores) <= ind):\n",
    "            return\n",
    "        elif scores[ind] < score:\n",
    "            scores[ind] = score\n",
    "    \n",
    "    #近くにあるものを加点\n",
    "    for cnt in range(sents_n):\n",
    "        if has_keyword[cnt]:\n",
    "            put_score(0.2, cnt-1)\n",
    "            put_score(1.0, cnt)\n",
    "            put_score(0.3, cnt+1)\n",
    "            put_score(0.1, cnt+2)\n",
    "            put_score(0.01, cnt+3)\n",
    "            \n",
    "    #キーワード持ち文の間にあるものをブースト\n",
    "    BETWEEN_MAX = 2\n",
    "    for between in range(2, BETWEEN_MAX+1):\n",
    "        for cnt in range(sents_n-between):\n",
    "            if has_keyword[cnt] and has_keyword[cnt+between]:\n",
    "                for cnt1 in range(cnt, cnt+between):\n",
    "                    #キーワード持ちだと逆に減点されることになる\n",
    "                    if not has_keyword[cnt1]:\n",
    "                        put_score(0.8, cnt1)\n",
    "    \n",
    "    return scores\n",
    "\n",
    "sample_scores = evaluate_sentent_score(sample_sents)\n",
    "\n",
    "for cnt in range(len(sample_sents)):\n",
    "    print(sample_scores[cnt], sample_sents[cnt])"
   ]
  },
  {
   "cell_type": "code",
   "execution_count": 10,
   "metadata": {},
   "outputs": [
    {
     "name": "stdout",
     "output_type": "stream",
     "text": [
      "{'メニュー': 0.2, 'メニュー-多彩': 0.2, '多彩': 0.2, '多彩-感動': 0.2, '新鮮': 0.2, '新鮮-魚介類': 0.2, '魚介類': 0.2, '魚介類-品揃え': 0.2, '品揃え': 0.2, '品揃え-感動': 0.2, '感動': 0.2, '感動-感動': 0.2, '絶妙': 2.0, '絶妙-加減': 1.0, '締め': 1.0, '締め-加減': 1.0, '加減': 1.0, '加減-広がる': 1.0, '口': 3.0, '口-入れる': 1.8, '心地よい': 1.0, '心地よい-食感': 1.0, '食感': 1.0, '食感-広がる': 1.0, '広がる': 1.0, '広がる-広がる': 1.0, '寿司ネタ': 1.3, '寿司ネタ-相性': 0.3, '相性': 0.3, '相性-抜群': 0.3, '抜群': 0.3, '抜群-美味しさ': 0.3, '一貫': 0.6, '一貫-一貫': 0.3, '一貫-美味しさ': 0.3, 'バランス': 0.3, 'バランス-取れる': 0.3, '取れる': 0.3, '取れる-美味しさ': 0.3, '美味しさ': 0.3, '美味しさ-美味しさ': 0.3, 'おすすめ': 0.2, 'おすすめ-堪能': 0.2, 'トロ': 0.2, 'トロ-ウニ': 0.2, 'ウニ': 0.2, 'ウニ-握り寿司': 0.2, '握り寿司': 0.2, '握り寿司-堪能': 0.2, '口-中': 0.2, '中': 0.2, '中-堪能': 0.2, 'とろける': 0.2, 'とろける-味わい': 0.2, '味わい': 0.2, '味わい-堪能': 0.2, '堪能': 0.2, '堪能-堪能': 0.2, '一度': 1.0, '一度-戻る': 1.0, '話': 1.0, '話-戻る': 1.0, '戻る': 1.0, '戻る-絶妙': 1.0, '程よい': 1.0, '程よい-酸味': 1.0, '酸味': 1.0, '酸味-良い': 1.0, '口-溶ける': 1.0, '溶ける': 1.0, '溶ける-良い': 1.0, '特徴': 1.0, '特徴-絶妙': 1.0, '寿司ネタ-ハーモニー': 1.0, 'ハーモニー': 1.0, 'ハーモニー-絶妙': 1.0, '絶妙-絶妙': 1.0, '米': 0.8, '米-ほころぶ': 0.8, 'ほころぶ': 0.8, 'ほころぶ-ほころぶ': 0.8, '店': 1.0, '店-珍しい': 1.0, '珍しい': 1.0, '珍しい-珍しい': 1.0, '価格': 0.3, '価格-高め': 0.3, '高め': 0.3, '高め-体験': 0.3, '価値': 0.3, '価値-見合う': 0.3, '見合う': 0.3, '見合う-体験': 0.3, '素晴らしい': 0.3, '素晴らしい-体験': 0.3, '食': 0.3, '食-体験': 0.3, '体験': 0.3, '体験-体験': 0.3, '訪れる': 0.1, '訪れる-思う': 0.1, '高級': 0.1, '高級-寿司店': 0.1, '寿司店': 0.1, '寿司店-寿司店': 0.1}\n"
     ]
    }
   ],
   "source": [
    "scores = {}\n",
    "\n",
    "def add_score(word, score):\n",
    "    global scores\n",
    "    \n",
    "    if word in scores:\n",
    "        scores[word] += score\n",
    "    else:\n",
    "        scores[word] = score\n",
    "\n",
    "def set_score(token, score):\n",
    "    if score < 0.001:\n",
    "        #skip\n",
    "        return\n",
    "    \n",
    "    add_score(token.lemma_, score)\n",
    "    add_score(give_context(token), score)\n",
    "\n",
    "def give_context(token):\n",
    "    return token.lemma_ + \"-\" + token.head.lemma_\n",
    "\n",
    "#単語にスコアを与える\n",
    "def analyze(text):\n",
    "    global scores\n",
    "    \n",
    "    if not check_keyword(text):\n",
    "        return\n",
    "    \n",
    "    sents, tokens = breakdown(text)\n",
    "    \n",
    "    sents_scores = evaluate_sentent_score(sents)\n",
    "    \n",
    "    for cnt_sent in range(len(sents)):\n",
    "        score = sents_scores[cnt_sent]\n",
    "        used = set()\n",
    "        for token in tokens[cnt_sent]:\n",
    "            #品詞\n",
    "            if (token.pos_ in wanted_parts) and (token.lemma_ not in stopwords) and (token.lemma_ not in used):\n",
    "                set_score(token, score)\n",
    "                used.add(token)\n",
    "\n",
    "#デモ\n",
    "analyze(sample_text)\n",
    "print(scores)\n",
    "\n",
    "#デモデータをリセット\n",
    "scores = {}"
   ]
  },
  {
   "cell_type": "code",
   "execution_count": 13,
   "metadata": {},
   "outputs": [
    {
     "name": "stderr",
     "output_type": "stream",
     "text": [
      "100%|██████████| 5068/5068 [1:24:25<00:00,  1.00it/s]  \n"
     ]
    }
   ],
   "source": [
    "#分析\n",
    "scores = {}\n",
    "for review in tqdm(reviews):\n",
    "    analyze(review)\n"
   ]
  },
  {
   "attachments": {},
   "cell_type": "markdown",
   "metadata": {},
   "source": [
    "### 結果"
   ]
  },
  {
   "cell_type": "code",
   "execution_count": 14,
   "metadata": {},
   "outputs": [
    {
     "name": "stdout",
     "output_type": "stream",
     "text": [
      "word: ネタ  score: 851.8000000000009\n",
      "word: 美味しい  score: 445.15000000000117\n",
      "word: 赤酢  score: 365.53000000000026\n",
      "word: 握り  score: 363.8199999999995\n",
      "word: 寿司  score: 303.7699999999993\n",
      "word: 食べる  score: 303.35\n",
      "word: 鮨  score: 223.70999999999995\n",
      "word: 美味しい-美味しい  score: 200.63999999999945\n",
      "word: 口  score: 182.8099999999997\n",
      "word: 赤  score: 179.81999999999985\n",
      "word: 握る  score: 176.58999999999983\n",
      "word: バランス  score: 173.75000000000003\n",
      "word: 中  score: 166.99999999999963\n",
      "word: 温度  score: 164.10999999999999\n",
      "word: 味  score: 161.0499999999998\n",
      "word: 酢  score: 158.24999999999994\n",
      "word: 最高  score: 153.01999999999998\n",
      "word: 　　  score: 149.39999999999995\n",
      "word: 感  score: 149.32999999999993\n",
      "word: 脂  score: 142.59999999999985\n",
      "word: マグロ  score: 139.3\n",
      "word: 赤酢-シャリ  score: 137.0\n",
      "word: 白  score: 136.32999999999996\n",
      "word: 合わせる  score: 132.67999999999995\n",
      "word: 酸味  score: 131.94999999999996\n",
      "word: 方  score: 129.58999999999992\n",
      "word: ネタ-シャリ  score: 128.0\n",
      "word: 合う  score: 126.47999999999995\n",
      "word: 好み  score: 125.68999999999996\n",
      "word: 大きい  score: 123.19000000000001\n",
      "word: 使う  score: 120.20999999999992\n",
      "word: 感じ  score: 119.02999999999997\n",
      "word:    score: 118.87999999999985\n",
      "word: 貫  score: 115.26000000000013\n",
      "word: 小  score: 115.04000000000008\n",
      "word: 旨味  score: 114.42000000000004\n",
      "word: ロゼ  score: 114.00999999999993\n",
      "word: 美味しさ  score: 112.40999999999998\n",
      "word: 海苔  score: 111.05999999999992\n",
      "word: 穴子  score: 109.63000000000005\n",
      "word: トロ  score: 108.58999999999999\n",
      "word: 感ずる  score: 107.96\n",
      "word: 提供  score: 106.94999999999986\n",
      "word: 口-中  score: 105.92000000000002\n",
      "word: 雲丹  score: 105.77000000000001\n",
      "word: お店  score: 103.54999999999991\n",
      "word: 中トロ  score: 103.47000000000008\n",
      "word: 種類  score: 102.99999999999997\n",
      "word: 鯛  score: 101.21000000000004\n",
      "word: 一体  score: 100.32\n",
      "word: 円  score: 99.31000000000004\n",
      "word: 言う  score: 95.45999999999994\n",
      "word: 日  score: 94.41000000000001\n",
      "word: スペシャリテ  score: 94.0\n",
      "word: 旨い  score: 91.94000000000004\n",
      "word: 入る  score: 90.10999999999999\n",
      "word: 相性  score: 90.05000000000001\n",
      "word: 赤身  score: 89.51000000000005\n",
      "word: 上  score: 88.74000000000001\n",
      "word: 新鮮  score: 88.62999999999998\n",
      "word: 赤-シャリ  score: 87.0\n",
      "word: 硬め  score: 85.99999999999999\n",
      "word: ロゼ-ロゼ  score: 83.40999999999997\n",
      "word: 大きめ  score: 83.31000000000002\n",
      "word: 大きさ  score: 82.75\n",
      "word: 美味い  score: 81.44999999999999\n",
      "word: 時  score: 81.40999999999983\n",
      "word: 素晴らしい  score: 81.17999999999998\n",
      "word: 小さめ  score: 80.80999999999999\n",
      "word: 甘い  score: 80.77999999999996\n",
      "word: いただく  score: 79.48000000000002\n",
      "word: 出る  score: 79.16999999999994\n",
      "word: 大トロ  score: 78.06999999999994\n",
      "word: 魚  score: 76.70000000000002\n",
      "word: 強い  score: 76.63999999999999\n",
      "word: 食感  score: 74.27999999999999\n",
      "word: 大将  score: 73.84\n",
      "word: 鮪  score: 73.71000000000004\n",
      "word: 昆布  score: 73.68999999999996\n",
      "word: 絶妙  score: 73.39000000000001\n",
      "word: 抜群  score: 72.66000000000004\n",
      "word: 目  score: 72.53\n",
      "word: すぎる  score: 71.57\n",
      "word: 一体-感  score: 70.61\n",
      "word: 新  score: 70.04000000000002\n",
      "word: 合う-合う  score: 69.74999999999999\n",
      "word: 量  score: 69.69\n",
      "word: 産  score: 69.08000000000001\n",
      "word: 塩  score: 69.01000000000002\n",
      "word: 種  score: 67.66999999999999\n",
      "word: 小さい  score: 67.04\n",
      "word: 変える  score: 66.72999999999999\n",
      "word: 店  score: 66.49\n",
      "word: 酢飯  score: 64.89\n",
      "word: よる  score: 64.25\n",
      "word: 新-シャリ  score: 64.0\n",
      "word: 米  score: 63.74999999999997\n",
      "word: 玉子  score: 63.43000000000007\n",
      "word: よる-に  score: 63.25000000000001\n",
      "word: 好き  score: 63.240000000000016\n"
     ]
    }
   ],
   "source": [
    "#結果を表示\n",
    "# 辞書の値を基準にソートして、上位100件を表示\n",
    "sorted_items = sorted(scores.items(), key=lambda x: x[1], reverse=True)\n",
    "\n",
    "cnt = 0\n",
    "for key, value in sorted_items:\n",
    "    text = f\"word: {key}  score: {value}\"\n",
    "    \n",
    "    if cnt < 100:\n",
    "        print(text)\n",
    "        cnt += 1\n",
    "    \n",
    "    #保存\n",
    "    with open(\"DistanceResult.txt\", \"a\", encoding = \"utf-8\") as f:\n",
    "        f.write(text + \"\\n\")"
   ]
  },
  {
   "cell_type": "code",
   "execution_count": 67,
   "metadata": {},
   "outputs": [],
   "source": [
    "#保存\n",
    "with open(\"DistanceData.pkl\", \"wb\") as f:\n",
    "    pickle.dump(scores, f)"
   ]
  },
  {
   "attachments": {},
   "cell_type": "markdown",
   "metadata": {},
   "source": [
    "## "
   ]
  }
 ],
 "metadata": {
  "kernelspec": {
   "display_name": "jpnlp",
   "language": "python",
   "name": "python3"
  },
  "language_info": {
   "codemirror_mode": {
    "name": "ipython",
    "version": 3
   },
   "file_extension": ".py",
   "mimetype": "text/x-python",
   "name": "python",
   "nbconvert_exporter": "python",
   "pygments_lexer": "ipython3",
   "version": "3.9.16"
  },
  "orig_nbformat": 4
 },
 "nbformat": 4,
 "nbformat_minor": 2
}
