{
 "cells": [
  {
   "cell_type": "code",
   "execution_count": 1,
   "metadata": {},
   "outputs": [],
   "source": [
    "import spacy\n",
    "import pandas as pd\n",
    "from tqdm import tqdm"
   ]
  },
  {
   "attachments": {},
   "cell_type": "markdown",
   "metadata": {},
   "source": [
    "## 初期化"
   ]
  },
  {
   "cell_type": "code",
   "execution_count": 2,
   "metadata": {},
   "outputs": [],
   "source": [
    "keywords = set([\"シャリ\"])\n",
    "\n",
    "def check_keyword(text : str):\n",
    "    for keyword in keywords:\n",
    "        if keyword in text:\n",
    "            return True\n",
    "    return False"
   ]
  },
  {
   "cell_type": "code",
   "execution_count": 3,
   "metadata": {},
   "outputs": [],
   "source": [
    "stopwords = set([\n",
    "    \"シャリ\",\n",
    "    \"お\",\n",
    "    \"料理長\",\n",
    "    \"　\",\n",
    "    \"副\",\n",
    "    \"いる\",\n",
    "    \"する\",\n",
    "    \"前\",\n",
    "    \"くれる\",\n",
    "    \"なる\",\n",
    "    \"いう\",\n",
    "    \"入れる\",\n",
    "    \"ある\",\n",
    "    \"同じ\",\n",
    "    \"良い\",\n",
    "    \"ない\",\n",
    "    \"くる\",\n",
    "    \"笑\",\n",
    "    \"いい\",\n",
    "    \"いく\",\n",
    "    \"こと\",\n",
    "    \"思う\",\n",
    "    \"もの\",\n",
    "    \"おる\",\n",
    "    \"さん\"\n",
    "])"
   ]
  },
  {
   "cell_type": "code",
   "execution_count": 4,
   "metadata": {},
   "outputs": [],
   "source": [
    "#例文（ChatGPTにより生成）\n",
    "sample_text = \"この度、特別な機会にある高級寿司店での食事を楽しむことができました。店内は落ち着いた雰囲気で、スタッフの対応も素晴らしかったです。メニューは多彩で、新鮮な魚介類の品揃えに感動しました。シャリは絶妙な締め加減で、口に入れると心地よい食感が広がります。寿司ネタとの相性も抜群で、一貫一貫がバランスの取れた美味しさでした。特におすすめは、トロやウニの握り寿司で、口の中でとろけるような味わいが堪能できました。もう一度シャリの話に戻りますが、シャリは、程よい酸味と口溶けの良さが特徴で、寿司ネタとのハーモニーが絶妙でした。口に入れるとほっと米がほころぶ。ここまでシャリが良い店は珍しい。価格は高めですが、その価値に見合う素晴らしい食体験でした。また訪れたいと思わせる高級寿司店でした。\""
   ]
  },
  {
   "cell_type": "code",
   "execution_count": 5,
   "metadata": {},
   "outputs": [
    {
     "name": "stderr",
     "output_type": "stream",
     "text": [
      "c:\\Users\\brigh\\anaconda3\\envs\\jpnlp\\lib\\site-packages\\tqdm\\auto.py:21: TqdmWarning: IProgress not found. Please update jupyter and ipywidgets. See https://ipywidgets.readthedocs.io/en/stable/user_install.html\n",
      "  from .autonotebook import tqdm as notebook_tqdm\n"
     ]
    }
   ],
   "source": [
    "ginza = spacy.load(\"ja_ginza_electra\")"
   ]
  },
  {
   "attachments": {},
   "cell_type": "markdown",
   "metadata": {},
   "source": [
    "## データ読み込み"
   ]
  },
  {
   "cell_type": "code",
   "execution_count": 6,
   "metadata": {},
   "outputs": [
    {
     "data": {
      "text/plain": [
       "5068"
      ]
     },
     "execution_count": 6,
     "metadata": {},
     "output_type": "execute_result"
    }
   ],
   "source": [
    "with open(\"reviews.csv\") as f:\n",
    "    reviews = f.read().split(\"\\n\")\n",
    "    \n",
    "len(reviews)"
   ]
  },
  {
   "attachments": {},
   "cell_type": "markdown",
   "metadata": {},
   "source": [
    "## 「シャリ」からの近さでスコア化して集計\n",
    "  \n",
    "文ごとにスコアを与える  \n",
    "「シャリ」を含む文を１として、その近隣の文も（シャリの話をしている可能性が高いので）ポワソン分布的にスコアを与える  \n",
    "文内の単語はその文のスコアだけ加点される"
   ]
  },
  {
   "cell_type": "code",
   "execution_count": 8,
   "metadata": {},
   "outputs": [
    {
     "name": "stdout",
     "output_type": "stream",
     "text": [
      "['この度、特別な機会にある高級寿司店での食事を楽しむことができました。', '店内は落ち着いた雰囲気で、スタッフの対応も素晴らしかったです。', 'メニューは多彩で、新鮮な魚介類の品揃えに感動しました。', 'シャリは絶妙な締め加減で、口に入れると心地よい食感が広がります。', '寿司ネタとの相性も抜群で、一貫一貫がバランスの取れた美味しさでした。', '特におすすめは、トロやウニの握り寿司で、口の中でとろけるような味わいが堪能できました。', 'もう一度シャリの話に戻りますが、シャリは、程よい酸味と口溶けの良さが特徴で、寿司ネタとのハーモニーが絶妙でした。', '口に入れるとほっと米がほころぶ。', 'ここまでシャリが良い店は珍しい。', '価格は高めですが、その価値に見合う素晴らしい食体験でした。', 'また訪れたいと思わせる高級寿司店でした。'] [[('この', 'DET'), ('度', 'NOUN'), ('、', 'PUNCT'), ('特別', 'ADJ'), ('だ', 'AUX'), ('機会', 'NOUN'), ('に', 'ADP'), ('ある', 'VERB'), ('高級', 'NOUN'), ('寿司店', 'NOUN'), ('で', 'ADP'), ('の', 'ADP'), ('食事', 'NOUN'), ('を', 'ADP'), ('楽しむ', 'VERB'), ('こと', 'NOUN'), ('が', 'ADP'), ('できる', 'AUX'), ('ます', 'AUX'), ('た', 'AUX'), ('。', 'PUNCT')], [('店内', 'NOUN'), ('は', 'ADP'), ('落ち着く', 'VERB'), ('た', 'AUX'), ('雰囲気', 'NOUN'), ('で', 'AUX'), ('、', 'PUNCT'), ('スタッフ', 'NOUN'), ('の', 'ADP'), ('対応', 'NOUN'), ('も', 'ADP'), ('素晴らしい', 'ADJ'), ('た', 'AUX'), ('です', 'AUX'), ('。', 'PUNCT')], [('メニュー', 'NOUN'), ('は', 'ADP'), ('多彩', 'ADJ'), ('だ', 'AUX'), ('、', 'PUNCT'), ('新鮮', 'ADJ'), ('だ', 'AUX'), ('魚介類', 'NOUN'), ('の', 'ADP'), ('品揃え', 'NOUN'), ('に', 'ADP'), ('感動', 'VERB'), ('する', 'AUX'), ('ます', 'AUX'), ('た', 'AUX'), ('。', 'PUNCT')], [('シャリ', 'NOUN'), ('は', 'ADP'), ('絶妙', 'ADJ'), ('だ', 'AUX'), ('締め', 'NOUN'), ('加減', 'NOUN'), ('で', 'AUX'), ('、', 'PUNCT'), ('口', 'NOUN'), ('に', 'ADP'), ('入れる', 'VERB'), ('と', 'SCONJ'), ('心地よい', 'ADJ'), ('食感', 'NOUN'), ('が', 'ADP'), ('広がる', 'VERB'), ('ます', 'AUX'), ('。', 'PUNCT')], [('寿司ネタ', 'NOUN'), ('と', 'ADP'), ('の', 'ADP'), ('相性', 'NOUN'), ('も', 'ADP'), ('抜群', 'ADJ'), ('だ', 'AUX'), ('、', 'PUNCT'), ('一貫', 'NOUN'), ('一貫', 'NOUN'), ('が', 'ADP'), ('バランス', 'NOUN'), ('の', 'ADP'), ('取れる', 'VERB'), ('た', 'AUX'), ('美味しさ', 'NOUN'), ('です', 'AUX'), ('た', 'AUX'), ('。', 'PUNCT')], [('特に', 'ADV'), ('おすすめ', 'NOUN'), ('は', 'ADP'), ('、', 'PUNCT'), ('トロ', 'NOUN'), ('や', 'ADP'), ('ウニ', 'NOUN'), ('の', 'ADP'), ('握り寿司', 'NOUN'), ('だ', 'AUX'), ('、', 'PUNCT'), ('口', 'NOUN'), ('の', 'ADP'), ('中', 'NOUN'), ('で', 'ADP'), ('とろける', 'VERB'), ('よう', 'AUX'), ('だ', 'AUX'), ('味わい', 'NOUN'), ('が', 'ADP'), ('堪能', 'VERB'), ('できる', 'AUX'), ('ます', 'AUX'), ('た', 'AUX'), ('。', 'PUNCT')], [('もう', 'ADV'), ('一度', 'NOUN'), ('シャリ', 'NOUN'), ('の', 'ADP'), ('話', 'NOUN'), ('に', 'ADP'), ('戻る', 'VERB'), ('ます', 'AUX'), ('が', 'SCONJ'), ('、', 'PUNCT'), ('シャリ', 'NOUN'), ('は', 'ADP'), ('、', 'PUNCT'), ('程よい', 'ADJ'), ('酸味', 'NOUN'), ('と', 'ADP'), ('口', 'NOUN'), ('溶ける', 'NOUN'), ('の', 'ADP'), ('良い', 'ADJ'), ('さ', 'PART'), ('が', 'ADP'), ('特徴', 'NOUN'), ('で', 'AUX'), ('、', 'PUNCT'), ('寿司ネタ', 'NOUN'), ('と', 'ADP'), ('の', 'ADP'), ('ハーモニー', 'NOUN'), ('が', 'ADP'), ('絶妙', 'ADJ'), ('です', 'AUX'), ('た', 'AUX'), ('。', 'PUNCT')], [('口', 'NOUN'), ('に', 'ADP'), ('入れる', 'VERB'), ('と', 'SCONJ'), ('ほっと', 'ADV'), ('米', 'NOUN'), ('が', 'ADP'), ('ほころぶ', 'VERB'), ('。', 'PUNCT')], [('ここ', 'PRON'), ('まで', 'ADP'), ('シャリ', 'NOUN'), ('が', 'ADP'), ('良い', 'ADJ'), ('店', 'NOUN'), ('は', 'ADP'), ('珍しい', 'ADJ'), ('。', 'PUNCT')], [('価格', 'NOUN'), ('は', 'ADP'), ('高め', 'ADJ'), ('です', 'AUX'), ('が', 'SCONJ'), ('、', 'PUNCT'), ('その', 'DET'), ('価値', 'NOUN'), ('に', 'ADP'), ('見合う', 'VERB'), ('素晴らしい', 'ADJ'), ('食', 'NOUN'), ('体験', 'NOUN'), ('です', 'AUX'), ('た', 'AUX'), ('。', 'PUNCT')], [('また', 'ADV'), ('訪れる', 'VERB'), ('たい', 'AUX'), ('と', 'ADP'), ('思う', 'VERB'), ('せる', 'AUX'), ('高級', 'NOUN'), ('寿司店', 'NOUN'), ('です', 'AUX'), ('た', 'AUX'), ('。', 'PUNCT')]]\n"
     ]
    }
   ],
   "source": [
    "#原文を文ごとにわけ、さらに形態素にわける\n",
    "def breakdown(text):\n",
    "    _text = text.replace(\"<br>\", \"\\n\")\n",
    "    sents = ginza(_text).sents\n",
    "    \n",
    "    sents_text = []\n",
    "    sents_tokenized = []\n",
    "    for sent in sents:\n",
    "        sents_text.append(str(sent))\n",
    "        sents_tokenized.append([])\n",
    "        for token in sent:\n",
    "            sents_tokenized[-1].append((token.lemma_, token.pos_))\n",
    "            \n",
    "    return sents_text, sents_tokenized\n",
    "\n",
    "sample_sents, sample_tokens = breakdown(sample_text)\n",
    "\n",
    "print(sample_sents, sample_tokens)"
   ]
  },
  {
   "cell_type": "code",
   "execution_count": 9,
   "metadata": {},
   "outputs": [
    {
     "name": "stdout",
     "output_type": "stream",
     "text": [
      "0.0 この度、特別な機会にある高級寿司店での食事を楽しむことができました。\n",
      "0.0 店内は落ち着いた雰囲気で、スタッフの対応も素晴らしかったです。\n",
      "0.2 メニューは多彩で、新鮮な魚介類の品揃えに感動しました。\n",
      "1.0 シャリは絶妙な締め加減で、口に入れると心地よい食感が広がります。\n",
      "0.3 寿司ネタとの相性も抜群で、一貫一貫がバランスの取れた美味しさでした。\n",
      "0.2 特におすすめは、トロやウニの握り寿司で、口の中でとろけるような味わいが堪能できました。\n",
      "1.0 もう一度シャリの話に戻りますが、シャリは、程よい酸味と口溶けの良さが特徴で、寿司ネタとのハーモニーが絶妙でした。\n",
      "0.8 口に入れるとほっと米がほころぶ。\n",
      "1.0 ここまでシャリが良い店は珍しい。\n",
      "0.3 価格は高めですが、その価値に見合う素晴らしい食体験でした。\n",
      "0.1 また訪れたいと思わせる高級寿司店でした。\n"
     ]
    }
   ],
   "source": [
    "#文章ごとのスコアを産出\n",
    "def evaluate_sentent_score(sents):\n",
    "    has_keyword = []\n",
    "    sents_n = 0\n",
    "    for sent in sents:\n",
    "        has_keyword.append(check_keyword(str(sent)))\n",
    "        sents_n += 1\n",
    "        \n",
    "    scores = [0.0] * sents_n\n",
    "    \n",
    "    def put_score(score, ind):\n",
    "        if (ind < 0) or (len(scores) <= ind):\n",
    "            return\n",
    "        elif scores[ind] < score:\n",
    "            scores[ind] = score\n",
    "    \n",
    "    #近くにあるものを加点\n",
    "    for cnt in range(sents_n):\n",
    "        if has_keyword[cnt]:\n",
    "            put_score(0.2, cnt-1)\n",
    "            put_score(1.0, cnt)\n",
    "            put_score(0.3, cnt+1)\n",
    "            put_score(0.1, cnt+2)\n",
    "            put_score(0.01, cnt+3)\n",
    "            \n",
    "    #キーワード持ち文の間にあるものをブースト\n",
    "    BETWEEN_MAX = 2\n",
    "    for between in range(2, BETWEEN_MAX+1):\n",
    "        for cnt in range(sents_n-between):\n",
    "            if has_keyword[cnt] and has_keyword[cnt+between]:\n",
    "                for cnt1 in range(cnt, cnt+between):\n",
    "                    if not has_keyword[cnt1]:\n",
    "                        put_score(0.8, cnt1)\n",
    "    \n",
    "    return scores\n",
    "\n",
    "sample_scores = evaluate_sentent_score(sample_sents)\n",
    "\n",
    "for cnt in range(len(sample_sents)):\n",
    "    print(sample_scores[cnt], sample_sents[cnt])"
   ]
  },
  {
   "cell_type": "code",
   "execution_count": 10,
   "metadata": {},
   "outputs": [
    {
     "name": "stdout",
     "output_type": "stream",
     "text": [
      "{'度': 0.0, '特別': 0.0, '機会': 0.0, '高級': 0.1, '寿司店': 0.1, '食事': 0.0, '楽しむ': 0.0, '店内': 0.0, '落ち着く': 0.0, '雰囲気': 0.0, 'スタッフ': 0.0, '対応': 0.0, '素晴らしい': 0.3, 'メニュー': 0.2, '多彩': 0.2, '新鮮': 0.2, '魚介類': 0.2, '品揃え': 0.2, '感動': 0.2, '絶妙': 2.0, '締め': 1.0, '加減': 1.0, '口': 3.0, '心地よい': 1.0, '食感': 1.0, '広がる': 1.0, '寿司ネタ': 1.3, '相性': 0.3, '抜群': 0.3, '一貫': 0.3, 'バランス': 0.3, '取れる': 0.3, '美味しさ': 0.3, 'おすすめ': 0.2, 'トロ': 0.2, 'ウニ': 0.2, '握り寿司': 0.2, '中': 0.2, 'とろける': 0.2, '味わい': 0.2, '堪能': 0.2, '一度': 1.0, '話': 1.0, '戻る': 1.0, '程よい': 1.0, '酸味': 1.0, '溶ける': 1.0, '特徴': 1.0, 'ハーモニー': 1.0, '米': 0.8, 'ほころぶ': 0.8, '店': 1.0, '珍しい': 1.0, '価格': 0.3, '高め': 0.3, '価値': 0.3, '見合う': 0.3, '食': 0.3, '体験': 0.3, '訪れる': 0.1}\n"
     ]
    }
   ],
   "source": [
    "scores = {}\n",
    "\n",
    "def add_score(word, score):\n",
    "    global scores\n",
    "    \n",
    "    if word in scores:\n",
    "        scores[word] += score\n",
    "    else:\n",
    "        scores[word] = score\n",
    "\n",
    "#単語にスコアを与える\n",
    "def analyze(text):\n",
    "    global scores\n",
    "    \n",
    "    if not check_keyword(text):\n",
    "        return\n",
    "    \n",
    "    sents, tokens = breakdown(text)\n",
    "    \n",
    "    sents_scores = evaluate_sentent_score(sents)\n",
    "    \n",
    "    for cnt_sent in range(len(sents)):\n",
    "        score = sents_scores[cnt_sent]\n",
    "        used = set()\n",
    "        for token in tokens[cnt_sent]:\n",
    "            #品詞\n",
    "            if (token[1] in [\"VERB\", \"ADJ\", \"NOUN\"]) and (token[0] not in stopwords) and (token[0] not in used):\n",
    "                add_score(token[0], score)\n",
    "                used.add(token[0])\n",
    "\n",
    "#デモ\n",
    "analyze(sample_text)\n",
    "print(scores)\n",
    "\n",
    "#デモデータをリセット\n",
    "scores = {}"
   ]
  },
  {
   "cell_type": "code",
   "execution_count": 11,
   "metadata": {},
   "outputs": [
    {
     "name": "stderr",
     "output_type": "stream",
     "text": [
      "100%|██████████| 5068/5068 [1:14:39<00:00,  1.13it/s]\n"
     ]
    }
   ],
   "source": [
    "#分析\n",
    "scores = {}\n",
    "for review in tqdm(reviews):\n",
    "    analyze(review)\n"
   ]
  },
  {
   "attachments": {},
   "cell_type": "markdown",
   "metadata": {},
   "source": [
    "### 結果"
   ]
  },
  {
   "cell_type": "code",
   "execution_count": 13,
   "metadata": {},
   "outputs": [
    {
     "name": "stdout",
     "output_type": "stream",
     "text": [
      "word: ネタ  score: 799.1900000000007\n",
      "word: 美味しい  score: 422.2000000000008\n",
      "word: 赤酢  score: 357.03000000000026\n",
      "word: 握り  score: 331.89999999999947\n",
      "word: 寿司  score: 280.1799999999994\n",
      "word: 食べる  score: 279.8099999999998\n",
      "word: 鮨  score: 202.80999999999966\n",
      "word: 赤  score: 175.51999999999987\n",
      "word: バランス  score: 171.75\n",
      "word: 口  score: 169.0699999999998\n",
      "word: 握る  score: 165.86999999999992\n",
      "word: 中  score: 160.98999999999964\n",
      "word: 味  score: 154.29999999999978\n",
      "word: 温度  score: 153.51\n",
      "word: 酢  score: 150.14999999999995\n",
      "word: 最高  score: 149.01000000000002\n",
      "word: 感  score: 146.2299999999999\n",
      "word: 白  score: 134.31999999999994\n",
      "word: 脂  score: 133.89000000000001\n",
      "word: 酸味  score: 131.34999999999997\n",
      "word: 合わせる  score: 130.67999999999998\n",
      "word: 好み  score: 125.58999999999996\n",
      "word: マグロ  score: 124.06999999999992\n",
      "word: 合う  score: 123.35999999999996\n",
      "word: 方  score: 120.54999999999993\n",
      "word: 大きい  score: 118.29\n",
      "word:    score: 117.87999999999985\n",
      "word: 感じ  score: 116.91999999999996\n",
      "word: 使う  score: 114.20999999999992\n",
      "word: ロゼ  score: 114.00999999999993\n",
      "word: 　　  score: 112.38999999999997\n",
      "word: 小  score: 108.93000000000008\n",
      "word: 美味しさ  score: 108.11\n",
      "word: 感ずる  score: 107.96\n",
      "word: 海苔  score: 105.2599999999999\n",
      "word: 旨味  score: 104.40000000000003\n",
      "word: 提供  score: 104.13999999999986\n",
      "word: 一体  score: 100.32\n",
      "word: トロ  score: 99.77999999999999\n",
      "word: 穴子  score: 97.39000000000003\n",
      "word: 中トロ  score: 97.27000000000005\n",
      "word: 貫  score: 97.12000000000012\n",
      "word: 種類  score: 95.69999999999999\n",
      "word: お店  score: 94.6499999999999\n",
      "word: 言う  score: 93.64999999999995\n",
      "word: 雲丹  score: 93.36000000000003\n",
      "word: 日  score: 91.67000000000003\n",
      "word: スペシャリテ  score: 91.0\n",
      "word: 鯛  score: 90.97000000000003\n",
      "word: 相性  score: 90.05000000000001\n",
      "word: 旨い  score: 89.43000000000004\n",
      "word: 新鮮  score: 88.62999999999998\n",
      "word: 赤身  score: 88.09000000000005\n",
      "word: 入る  score: 87.39999999999996\n",
      "word: 円  score: 86.20000000000006\n",
      "word: 硬め  score: 84.99999999999999\n",
      "word: 上  score: 84.84000000000002\n",
      "word: 小さめ  score: 80.80999999999999\n",
      "word: 甘い  score: 80.76999999999995\n",
      "word: 大きめ  score: 80.31000000000002\n",
      "word: 素晴らしい  score: 79.37999999999997\n",
      "word: 大きさ  score: 77.44999999999999\n",
      "word: 大トロ  score: 77.35999999999996\n",
      "word: 出る  score: 77.05999999999996\n",
      "word: いただく  score: 76.07000000000001\n",
      "word: 美味い  score: 74.94999999999999\n",
      "word: 強い  score: 74.53999999999999\n",
      "word: 抜群  score: 72.56000000000004\n",
      "word: 大将  score: 72.53999999999999\n",
      "word: 魚  score: 71.69000000000003\n",
      "word: 絶妙  score: 71.29\n",
      "word: 時  score: 69.78999999999995\n",
      "word: 昆布  score: 69.18999999999996\n",
      "word: 鮪  score: 69.09000000000003\n",
      "word: 新  score: 68.84000000000002\n",
      "word: 量  score: 68.67999999999999\n",
      "word: 目  score: 67.9\n",
      "word: 塩  score: 67.00000000000003\n",
      "word: 食感  score: 66.96999999999996\n",
      "word: すぎる  score: 66.47\n",
      "word: 変える  score: 65.72999999999999\n",
      "word: よる  score: 63.95000000000001\n",
      "word: 種  score: 63.56999999999997\n",
      "word: 産  score: 62.61\n",
      "word: 好き  score: 62.04000000000001\n",
      "word: 小さい  score: 62.040000000000006\n",
      "word: 酢飯  score: 61.790000000000006\n",
      "word: 米  score: 60.93999999999998\n",
      "word: 乗る  score: 60.58999999999997\n",
      "word: 店  score: 60.45999999999999\n",
      "word: 巻く  score: 59.920000000000016\n",
      "word: 香り  score: 59.74000000000002\n",
      "word: 肌  score: 58.66999999999997\n",
      "word: 気  score: 58.55000000000002\n",
      "word: \n",
      "  score: 58.28999999999996\n",
      "word: 玉子  score: 58.13000000000004\n",
      "word: 多い  score: 58.09999999999999\n",
      "word: しまう  score: 57.79999999999999\n",
      "word: いつも  score: 57.51000000000001\n",
      "word: 甘味  score: 57.00000000000002\n"
     ]
    }
   ],
   "source": [
    "#結果を表示\n",
    "# 辞書の値を基準にソートして、上位100件を表示\n",
    "sorted_items = sorted(scores.items(), key=lambda x: x[1], reverse=True)[:100]\n",
    "\n",
    "for key, value in sorted_items:\n",
    "    print(f\"word: {key}  score: {value}\")"
   ]
  }
 ],
 "metadata": {
  "kernelspec": {
   "display_name": "jpnlp",
   "language": "python",
   "name": "python3"
  },
  "language_info": {
   "codemirror_mode": {
    "name": "ipython",
    "version": 3
   },
   "file_extension": ".py",
   "mimetype": "text/x-python",
   "name": "python",
   "nbconvert_exporter": "python",
   "pygments_lexer": "ipython3",
   "version": "3.9.16"
  },
  "orig_nbformat": 4
 },
 "nbformat": 4,
 "nbformat_minor": 2
}
